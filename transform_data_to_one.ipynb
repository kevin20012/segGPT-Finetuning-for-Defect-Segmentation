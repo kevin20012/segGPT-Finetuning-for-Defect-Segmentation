{
 "cells": [
  {
   "cell_type": "code",
   "execution_count": null,
   "metadata": {},
   "outputs": [],
   "source": [
    "import os\n",
    "import shutil as s\n",
    "\n",
    "!pwd\n",
    "main_path = './dataset'\n",
    "os.chdir(main_path)\n",
    "os.mkdir(\"train_dataset\")\n",
    "os.chdir(os.path.join(main_path, \"train_dataset\"))\n",
    "os.mkdir(\"train\")\n",
    "os.mkdir(\"val\")\n",
    "\n",
    "train_dir = os.path.join(os.path.join(main_path, \"train_dataset\"), \"train\")\n",
    "os.chdir(train_dir)\n",
    "os.mkdir(\"images\")\n",
    "os.mkdir(\"labels\")\n",
    "val_dir = os.path.join(os.path.join(main_path, \"train_dataset\"), \"val\")\n",
    "os.chdir(val_dir)\n",
    "os.mkdir(\"images\")\n",
    "os.mkdir(\"labels\")\n",
    "\n",
    "os.chdir(main_path)\n",
    "\n",
    "train = os.path.join(main_path, 'train')\n",
    "for dir in os.listdir(train):\n",
    "    d = os.path.join(train, dir) #cable\n",
    "    os.chdir(d)\n",
    "    for dir2 in os.listdir(d): \n",
    "        d2 = os.path.join(d, dir2) #thunderbolt, torn_apart\n",
    "        os.chdir(d2)\n",
    "\n",
    "        val_data_name = \"\"\n",
    "        #image\n",
    "        image_dir = os.path.join(d2, 'image')\n",
    "        os.chdir(image_dir)\n",
    "        for idx, image_file in enumerate(os.listdir(image_dir)):\n",
    "            print(image_file)\n",
    "            os.rename(image_file, dir2+\"_\"+image_file.split('.')[0]+'.jpg')\n",
    "\n",
    "            file_name = dir2+\"_\"+image_file.split('.')[0]+'.jpg'\n",
    "            if idx == 0:\n",
    "                val_data_name = file_name\n",
    "                s.copy(os.path.join(image_dir, file_name), os.path.join(os.path.join(val_dir, \"images\"), file_name))\n",
    "                \n",
    "            else:\n",
    "                s.copy(os.path.join(image_dir, file_name), os.path.join(os.path.join(train_dir, \"images\"), file_name))\n",
    "\n",
    "        #label\n",
    "        label_dir = os.path.join(d2, 'label')\n",
    "        os.chdir(label_dir)\n",
    "        for label_file in os.listdir(label_dir):\n",
    "            print(label_file)\n",
    "            os.rename(label_file, dir2+\"_\"+label_file.split('.')[0]+'.jpg')\n",
    "\n",
    "            file_name = dir2+\"_\"+label_file.split('.')[0]+'.jpg'\n",
    "            if file_name == val_data_name:\n",
    "                s.copy(os.path.join(label_dir, file_name), os.path.join(os.path.join(val_dir, \"labels\"), file_name))\n",
    "            else:\n",
    "                s.copy(os.path.join(label_dir, file_name), os.path.join(os.path.join(train_dir, \"labels\"), file_name))\n",
    "\n",
    "\n"
   ]
  },
  {
   "cell_type": "code",
   "execution_count": 2,
   "metadata": {},
   "outputs": [
    {
     "name": "stdout",
     "output_type": "stream",
     "text": [
      "mean [462.91132647 796.69907546 512.77512838]\n",
      "std [11.33678095 14.27965681 19.98793684]\n"
     ]
    }
   ],
   "source": [
    "from PIL import Image\n",
    "import numpy as np\n",
    "import os\n",
    "img_path = '/shared/home/vclp/hyunwook/junhyung/segGPT_origin/SegGPT-FineTune/dataset/train_dataset/train/images'\n",
    "os.chdir(img_path)\n",
    "\n",
    "mean = np.array([0,0,0])\n",
    "double_mean = np.array([0,0,0])\n",
    "count_of_image_pixel = 0\n",
    "std = np.array([0,0,0])\n",
    "\n",
    "for image in os.listdir(img_path):\n",
    "    img = np.array(Image.open(image).convert('RGB')).astype(np.uint8) #h, w, c\n",
    "    count_of_image_pixel += (img.shape[0]*img.shape[1])\n",
    "\n",
    "    mean[0] += img[:,:,0].sum() #R\n",
    "    mean[1] += img[:,:,1].sum() #G\n",
    "    mean[2] += img[:,:,2].sum() #B\n",
    "\n",
    "    double_mean[0] += (img[:,:,0]**2).sum() #R\n",
    "    double_mean[1] += (img[:,:,1]**2).sum() #G\n",
    "    double_mean[2] += (img[:,:,2]**2).sum() #B\n",
    "\n",
    "mean = mean / count_of_image_pixel\n",
    "double_mean = double_mean / count_of_image_pixel\n",
    "std = np.sqrt(double_mean - mean)\n",
    "\n",
    "print('mean',mean)\n",
    "print('std', std)"
   ]
  },
  {
   "cell_type": "code",
   "execution_count": null,
   "metadata": {},
   "outputs": [],
   "source": []
  }
 ],
 "metadata": {
  "kernelspec": {
   "display_name": "seg",
   "language": "python",
   "name": "python3"
  },
  "language_info": {
   "codemirror_mode": {
    "name": "ipython",
    "version": 3
   },
   "file_extension": ".py",
   "mimetype": "text/x-python",
   "name": "python",
   "nbconvert_exporter": "python",
   "pygments_lexer": "ipython3",
   "version": "3.9.18"
  }
 },
 "nbformat": 4,
 "nbformat_minor": 2
}
